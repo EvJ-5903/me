{
 "cells": [
  {
   "cell_type": "code",
   "execution_count": 2,
   "metadata": {},
   "outputs": [],
   "source": [
    "import matplotlib\n",
    "import matplotlib.pyplot as plt\n",
    "import numpy as np\n",
    "import pandas as pd\n",
    "import os\n",
    "from datetime import datetime"
   ]
  },
  {
   "cell_type": "code",
   "execution_count": 3,
   "metadata": {},
   "outputs": [],
   "source": [
    "%matplotlib inline"
   ]
  },
  {
   "cell_type": "code",
   "execution_count": 4,
   "metadata": {},
   "outputs": [],
   "source": [
    "plt.rcParams['figure.figsize'] = (10, 5)"
   ]
  },
  {
   "cell_type": "code",
   "execution_count": 5,
   "metadata": {},
   "outputs": [],
   "source": [
    "saved_style_state = matplotlib.rcParams.copy() #give us a style state to go back to"
   ]
  },
  {
   "cell_type": "code",
   "execution_count": 17,
   "metadata": {},
   "outputs": [
    {
     "name": "stdout",
     "output_type": "stream",
     "text": [
      "done\n"
     ]
    }
   ],
   "source": [
    "transmissionlines_data = pd.read_csv(\"ElectricityTransmissionLines_v2.csv\")\n",
    "print(\"done\")"
   ]
  },
  {
   "cell_type": "code",
   "execution_count": 8,
   "metadata": {},
   "outputs": [
    {
     "data": {
      "text/html": [
       "<div>\n",
       "<style scoped>\n",
       "    .dataframe tbody tr th:only-of-type {\n",
       "        vertical-align: middle;\n",
       "    }\n",
       "\n",
       "    .dataframe tbody tr th {\n",
       "        vertical-align: top;\n",
       "    }\n",
       "\n",
       "    .dataframe thead th {\n",
       "        text-align: right;\n",
       "    }\n",
       "</style>\n",
       "<table border=\"1\" class=\"dataframe\">\n",
       "  <thead>\n",
       "    <tr style=\"text-align: right;\">\n",
       "      <th></th>\n",
       "      <th>OBJECTID</th>\n",
       "      <th>FEATURETYPE</th>\n",
       "      <th>DESCRIPTON</th>\n",
       "      <th>CLASS</th>\n",
       "      <th>FID</th>\n",
       "      <th>NAME</th>\n",
       "      <th>OPERATIONALSTATUS</th>\n",
       "      <th>CAPACITYKV</th>\n",
       "      <th>STATE</th>\n",
       "      <th>SPATIALCONFIDENCE</th>\n",
       "      <th>REVISED</th>\n",
       "      <th>COMMENT</th>\n",
       "      <th>SHAPE_Length</th>\n",
       "    </tr>\n",
       "  </thead>\n",
       "  <tbody>\n",
       "    <tr>\n",
       "      <th>0</th>\n",
       "      <td>1</td>\n",
       "      <td>Transmission Line</td>\n",
       "      <td>A network of wires and insulators used to conn...</td>\n",
       "      <td>Overhead</td>\n",
       "      <td>1</td>\n",
       "      <td>Callide B Power Station to Calvale</td>\n",
       "      <td>Operational</td>\n",
       "      <td>275</td>\n",
       "      <td>Queensland</td>\n",
       "      <td>5</td>\n",
       "      <td>20120710</td>\n",
       "      <td>NaN</td>\n",
       "      <td>0.010167</td>\n",
       "    </tr>\n",
       "    <tr>\n",
       "      <th>1</th>\n",
       "      <td>2</td>\n",
       "      <td>Transmission Line</td>\n",
       "      <td>A network of wires and insulators used to conn...</td>\n",
       "      <td>Overhead</td>\n",
       "      <td>2</td>\n",
       "      <td>Callide B Power Station to Calvale</td>\n",
       "      <td>Operational</td>\n",
       "      <td>275</td>\n",
       "      <td>Queensland</td>\n",
       "      <td>5</td>\n",
       "      <td>20120710</td>\n",
       "      <td>NaN</td>\n",
       "      <td>0.011240</td>\n",
       "    </tr>\n",
       "    <tr>\n",
       "      <th>2</th>\n",
       "      <td>3</td>\n",
       "      <td>Transmission Line</td>\n",
       "      <td>A network of wires and insulators used to conn...</td>\n",
       "      <td>Overhead</td>\n",
       "      <td>3</td>\n",
       "      <td>Calvale to Callide A Power Station</td>\n",
       "      <td>Operational</td>\n",
       "      <td>132</td>\n",
       "      <td>Queensland</td>\n",
       "      <td>5</td>\n",
       "      <td>20120710</td>\n",
       "      <td>NaN</td>\n",
       "      <td>0.009304</td>\n",
       "    </tr>\n",
       "    <tr>\n",
       "      <th>3</th>\n",
       "      <td>4</td>\n",
       "      <td>Transmission Line</td>\n",
       "      <td>A network of wires and insulators used to conn...</td>\n",
       "      <td>Overhead</td>\n",
       "      <td>4</td>\n",
       "      <td>Braemar to Bulli Creek</td>\n",
       "      <td>Operational</td>\n",
       "      <td>330</td>\n",
       "      <td>Queensland</td>\n",
       "      <td>5</td>\n",
       "      <td>20120710</td>\n",
       "      <td>NaN</td>\n",
       "      <td>0.830194</td>\n",
       "    </tr>\n",
       "    <tr>\n",
       "      <th>4</th>\n",
       "      <td>5</td>\n",
       "      <td>Transmission Line</td>\n",
       "      <td>A network of wires and insulators used to conn...</td>\n",
       "      <td>Overhead</td>\n",
       "      <td>5</td>\n",
       "      <td>Moura to Biloela Tee</td>\n",
       "      <td>Operational</td>\n",
       "      <td>132</td>\n",
       "      <td>Queensland</td>\n",
       "      <td>5</td>\n",
       "      <td>20120710</td>\n",
       "      <td>NaN</td>\n",
       "      <td>0.466893</td>\n",
       "    </tr>\n",
       "  </tbody>\n",
       "</table>\n",
       "</div>"
      ],
      "text/plain": [
       "   OBJECTID        FEATURETYPE  \\\n",
       "0         1  Transmission Line   \n",
       "1         2  Transmission Line   \n",
       "2         3  Transmission Line   \n",
       "3         4  Transmission Line   \n",
       "4         5  Transmission Line   \n",
       "\n",
       "                                          DESCRIPTON     CLASS  FID  \\\n",
       "0  A network of wires and insulators used to conn...  Overhead    1   \n",
       "1  A network of wires and insulators used to conn...  Overhead    2   \n",
       "2  A network of wires and insulators used to conn...  Overhead    3   \n",
       "3  A network of wires and insulators used to conn...  Overhead    4   \n",
       "4  A network of wires and insulators used to conn...  Overhead    5   \n",
       "\n",
       "                                 NAME OPERATIONALSTATUS  CAPACITYKV  \\\n",
       "0  Callide B Power Station to Calvale       Operational         275   \n",
       "1  Callide B Power Station to Calvale       Operational         275   \n",
       "2  Calvale to Callide A Power Station       Operational         132   \n",
       "3              Braemar to Bulli Creek       Operational         330   \n",
       "4                Moura to Biloela Tee       Operational         132   \n",
       "\n",
       "        STATE  SPATIALCONFIDENCE   REVISED COMMENT  SHAPE_Length  \n",
       "0  Queensland                  5  20120710     NaN      0.010167  \n",
       "1  Queensland                  5  20120710     NaN      0.011240  \n",
       "2  Queensland                  5  20120710     NaN      0.009304  \n",
       "3  Queensland                  5  20120710     NaN      0.830194  \n",
       "4  Queensland                  5  20120710     NaN      0.466893  "
      ]
     },
     "execution_count": 8,
     "metadata": {},
     "output_type": "execute_result"
    }
   ],
   "source": [
    "transmissionlines_data.head()"
   ]
  },
  {
   "cell_type": "code",
   "execution_count": 20,
   "metadata": {},
   "outputs": [
    {
     "data": {
      "text/plain": [
       "Index(['OBJECTID', 'FEATURETYPE', 'DESCRIPTION', 'CLASS', 'FID', 'NAME',\n",
       "       'OPERATIONALSTATUS', 'CAPACITYKV', 'STATE', 'SPATIALCONFIDENCE',\n",
       "       'REVISED', 'COMMENT', 'SHAPE_Length'],\n",
       "      dtype='object')"
      ]
     },
     "execution_count": 20,
     "metadata": {},
     "output_type": "execute_result"
    }
   ],
   "source": [
    "transmissionlines_data.columns"
   ]
  },
  {
   "cell_type": "code",
   "execution_count": 21,
   "metadata": {},
   "outputs": [
    {
     "data": {
      "text/plain": [
       "OBJECTID                                                             2\n",
       "FEATURETYPE                                          Transmission Line\n",
       "DESCRIPTION          A network of wires and insulators used to conn...\n",
       "CLASS                                                         Overhead\n",
       "FID                                                                  2\n",
       "NAME                                Callide B Power Station to Calvale\n",
       "OPERATIONALSTATUS                                          Operational\n",
       "CAPACITYKV                                                         275\n",
       "STATE                                                       Queensland\n",
       "SPATIALCONFIDENCE                                                    5\n",
       "REVISED                                                       20120710\n",
       "COMMENT                                                            NaN\n",
       "SHAPE_Length                                                   0.01124\n",
       "Name: 1, dtype: object"
      ]
     },
     "execution_count": 21,
     "metadata": {},
     "output_type": "execute_result"
    }
   ],
   "source": [
    "row_1 = transmissionlines_data.iloc[1]\n",
    "row_1"
   ]
  },
  {
   "cell_type": "code",
   "execution_count": 22,
   "metadata": {},
   "outputs": [
    {
     "data": {
      "text/plain": [
       "'A network of wires and insulators used to connect and transport high voltage electricity from generators to large demand customers and the lower voltage electricity distribution network'"
      ]
     },
     "execution_count": 22,
     "metadata": {},
     "output_type": "execute_result"
    }
   ],
   "source": [
    "row_1[\"DESCRIPTION\"]"
   ]
  },
  {
   "cell_type": "code",
   "execution_count": 23,
   "metadata": {},
   "outputs": [
    {
     "ename": "SyntaxError",
     "evalue": "invalid syntax (1953464400.py, line 1)",
     "output_type": "error",
     "traceback": [
      "\u001b[1;36m  Input \u001b[1;32mIn [23]\u001b[1;36m\u001b[0m\n\u001b[1;33m    transmissionlines_data{\"CAPACITYKV\"}\u001b[0m\n\u001b[1;37m                          ^\u001b[0m\n\u001b[1;31mSyntaxError\u001b[0m\u001b[1;31m:\u001b[0m invalid syntax\n"
     ]
    }
   ],
   "source": [
    "transmissionlines_data[\"CAPACITYKV\"]"
   ]
  }
 ],
 "metadata": {
  "kernelspec": {
   "display_name": "Python 3.10.4 64-bit",
   "language": "python",
   "name": "python3"
  },
  "language_info": {
   "codemirror_mode": {
    "name": "ipython",
    "version": 3
   },
   "file_extension": ".py",
   "mimetype": "text/x-python",
   "name": "python",
   "nbconvert_exporter": "python",
   "pygments_lexer": "ipython3",
   "version": "3.10.4"
  },
  "orig_nbformat": 4,
  "vscode": {
   "interpreter": {
    "hash": "7343729200d098edf71688b719cf75548487f0ef9e6c8702942087c9ea1ff612"
   }
  }
 },
 "nbformat": 4,
 "nbformat_minor": 2
}
